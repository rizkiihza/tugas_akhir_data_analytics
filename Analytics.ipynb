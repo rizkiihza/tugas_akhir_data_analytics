{
 "cells": [
  {
   "cell_type": "code",
   "execution_count": 22,
   "metadata": {},
   "outputs": [],
   "source": [
    "import pandas as pd\n",
    "import seaborn as sns\n",
    "import numpy as np\n",
    "import matplotlib.pyplot as plt"
   ]
  },
  {
   "cell_type": "code",
   "execution_count": 23,
   "metadata": {},
   "outputs": [
    {
     "name": "stdout",
     "output_type": "stream",
     "text": [
      "result_size_limit/data_1.csv\n",
      "result_size_limit/data_2.csv\n"
     ]
    },
    {
     "data": {
      "text/html": [
       "<div>\n",
       "<style scoped>\n",
       "    .dataframe tbody tr th:only-of-type {\n",
       "        vertical-align: middle;\n",
       "    }\n",
       "\n",
       "    .dataframe tbody tr th {\n",
       "        vertical-align: top;\n",
       "    }\n",
       "\n",
       "    .dataframe thead th {\n",
       "        text-align: right;\n",
       "    }\n",
       "</style>\n",
       "<table border=\"1\" class=\"dataframe\">\n",
       "  <thead>\n",
       "    <tr style=\"text-align: right;\">\n",
       "      <th></th>\n",
       "      <th>k</th>\n",
       "      <th>dslimit</th>\n",
       "      <th>sizeLimit</th>\n",
       "      <th>neg_sup</th>\n",
       "      <th>filename</th>\n",
       "      <th>Number of predicate</th>\n",
       "      <th>Number of test case</th>\n",
       "      <th>Accuracy</th>\n",
       "      <th>Time</th>\n",
       "      <th>Memory</th>\n",
       "    </tr>\n",
       "  </thead>\n",
       "  <tbody>\n",
       "    <tr>\n",
       "      <th>1</th>\n",
       "      <td>25</td>\n",
       "      <td>0.01</td>\n",
       "      <td>1</td>\n",
       "      <td>0</td>\n",
       "      <td>generated_data/data_size_limit.txt</td>\n",
       "      <td>200</td>\n",
       "      <td>40</td>\n",
       "      <td>1.000000</td>\n",
       "      <td>258</td>\n",
       "      <td>96466944</td>\n",
       "    </tr>\n",
       "    <tr>\n",
       "      <th>2</th>\n",
       "      <td>25</td>\n",
       "      <td>0.01</td>\n",
       "      <td>2</td>\n",
       "      <td>0</td>\n",
       "      <td>generated_data/data_size_limit.txt</td>\n",
       "      <td>200</td>\n",
       "      <td>40</td>\n",
       "      <td>0.911765</td>\n",
       "      <td>5362</td>\n",
       "      <td>1077007248</td>\n",
       "    </tr>\n",
       "    <tr>\n",
       "      <th>3</th>\n",
       "      <td>25</td>\n",
       "      <td>0.01</td>\n",
       "      <td>3</td>\n",
       "      <td>0</td>\n",
       "      <td>generated_data/data_size_limit.txt</td>\n",
       "      <td>200</td>\n",
       "      <td>40</td>\n",
       "      <td>0.935484</td>\n",
       "      <td>223463</td>\n",
       "      <td>6478316256</td>\n",
       "    </tr>\n",
       "    <tr>\n",
       "      <th>4</th>\n",
       "      <td>25</td>\n",
       "      <td>0.01</td>\n",
       "      <td>4</td>\n",
       "      <td>0</td>\n",
       "      <td>generated_data/data_size_limit.txt</td>\n",
       "      <td>200</td>\n",
       "      <td>40</td>\n",
       "      <td>0.966667</td>\n",
       "      <td>2122583</td>\n",
       "      <td>6883478488</td>\n",
       "    </tr>\n",
       "    <tr>\n",
       "      <th>5</th>\n",
       "      <td>25</td>\n",
       "      <td>0.01</td>\n",
       "      <td>5</td>\n",
       "      <td>0</td>\n",
       "      <td>generated_data/data_size_limit.txt</td>\n",
       "      <td>200</td>\n",
       "      <td>40</td>\n",
       "      <td>0.966667</td>\n",
       "      <td>6887467</td>\n",
       "      <td>7524986176</td>\n",
       "    </tr>\n",
       "    <tr>\n",
       "      <th>6</th>\n",
       "      <td>25</td>\n",
       "      <td>0.01</td>\n",
       "      <td>6</td>\n",
       "      <td>0</td>\n",
       "      <td>generated_data/data_size_limit.txt</td>\n",
       "      <td>200</td>\n",
       "      <td>40</td>\n",
       "      <td>0.966667</td>\n",
       "      <td>11208517</td>\n",
       "      <td>8318020096</td>\n",
       "    </tr>\n",
       "  </tbody>\n",
       "</table>\n",
       "</div>"
      ],
      "text/plain": [
       "    k  dslimit  sizeLimit  neg_sup                            filename  \\\n",
       "1  25     0.01          1        0  generated_data/data_size_limit.txt   \n",
       "2  25     0.01          2        0  generated_data/data_size_limit.txt   \n",
       "3  25     0.01          3        0  generated_data/data_size_limit.txt   \n",
       "4  25     0.01          4        0  generated_data/data_size_limit.txt   \n",
       "5  25     0.01          5        0  generated_data/data_size_limit.txt   \n",
       "6  25     0.01          6        0  generated_data/data_size_limit.txt   \n",
       "\n",
       "   Number of predicate  Number of test case  Accuracy      Time      Memory  \n",
       "1                  200                   40  1.000000       258    96466944  \n",
       "2                  200                   40  0.911765      5362  1077007248  \n",
       "3                  200                   40  0.935484    223463  6478316256  \n",
       "4                  200                   40  0.966667   2122583  6883478488  \n",
       "5                  200                   40  0.966667   6887467  7524986176  \n",
       "6                  200                   40  0.966667  11208517  8318020096  "
      ]
     },
     "execution_count": 23,
     "metadata": {},
     "output_type": "execute_result"
    }
   ],
   "source": [
    "# df = pd.read_csv(\"result_k.csv\")\n",
    "# df2 = pd.read_csv(\"result_size_2_generated.csv\")\n",
    "# df = pd.concat([df1, df2])\n",
    "# df.index = [i+1 for i in range(len(df))]\n",
    "\n",
    "dfs = []\n",
    "\n",
    "for i in range(1, 3):\n",
    "    file = \"result_size_limit/data_%d.csv\"  % (i)\n",
    "    print(str(file))\n",
    "    dfs.append(pd.read_csv(file))\n",
    "df = pd.concat(dfs)\n",
    "df.drop(['Unnamed: 0'], inplace=True, axis=1)\n",
    "df.index = [i+1 for i in range(len(df))]\n",
    "df"
   ]
  },
  {
   "cell_type": "code",
   "execution_count": 24,
   "metadata": {},
   "outputs": [
    {
     "data": {
      "image/png": "[encoded data removed]",
      "text/plain": [
       "<Figure size 432x288 with 1 Axes>"
      ]
     },
     "metadata": {
      "needs_background": "light"
     },
     "output_type": "display_data"
    }
   ],
   "source": [
    "sns.scatterplot(x='sizeLimit', y='Time', data=df)\n",
    "plt.show()"
   ]
  },
  {
   "cell_type": "code",
   "execution_count": 25,
   "metadata": {},
   "outputs": [],
   "source": [
    "from sklearn.preprocessing import PolynomialFeatures\n",
    "from sklearn.linear_model import LinearRegression"
   ]
  },
  {
   "cell_type": "code",
   "execution_count": 26,
   "metadata": {},
   "outputs": [
    {
     "name": "stdout",
     "output_type": "stream",
     "text": [
      "[[ 0.00000000e+00 -2.64624913e+06  6.83864758e+05  2.50074074e+03]]\n",
      "[2114060.33333341]\n"
     ]
    },
    {
     "data": {
      "image/png": "[encoded data removed]",
      "text/plain": [
       "<Figure size 432x288 with 1 Axes>"
      ]
     },
     "metadata": {
      "needs_background": "light"
     },
     "output_type": "display_data"
    }
   ],
   "source": [
    "y = np.atleast_2d(df['Time']).T\n",
    "x = np.atleast_2d(df['sizeLimit']).T\n",
    "\n",
    "poly = PolynomialFeatures(degree=3)\n",
    "x_transform = poly.fit_transform(x)\n",
    "\n",
    "linearRegression = LinearRegression()\n",
    "linearRegression.fit(x_transform, y)\n",
    "\n",
    "coeff = linearRegression.coef_.T\n",
    "\n",
    "result = linearRegression.predict(x_transform)\n",
    "\n",
    "x_list = [val[0] for val in x]\n",
    "result_list = [val[0] for val in result]\n",
    "df_current = pd.DataFrame.from_dict({'x': x_list, 'y': result_list})\n",
    "\n",
    "print(linearRegression.coef_)\n",
    "print(linearRegression.intercept_)\n",
    "\n",
    "sns.lineplot(x='x', y='y', data=df_current)\n",
    "sns.scatterplot(x='sizeLimit', y='Time', data=df, color=\"coral\")\n",
    "plt.show()"
   ]
  },
  {
   "cell_type": "code",
   "execution_count": 46,
   "metadata": {},
   "outputs": [
    {
     "data": {
      "image/png": "[encoded data removed]",
      "text/plain": [
       "<Figure size 432x288 with 1 Axes>"
      ]
     },
     "metadata": {
      "needs_background": "light"
     },
     "output_type": "display_data"
    }
   ],
   "source": [
    "y = np.log(np.atleast_2d(df['Time']).T)\n",
    "x = np.atleast_2d(df['sizeLimit']).T\n",
    "\n",
    "sns.scatterplot(x='sizeLimit', y='LogTime', data=df)\n",
    "plt.show()"
   ]
  },
  {
   "cell_type": "code",
   "execution_count": 39,
   "metadata": {},
   "outputs": [
    {
     "name": "stdout",
     "output_type": "stream",
     "text": [
      "[[0.         2.20347522]]\n",
      "[4.45493604]\n"
     ]
    },
    {
     "data": {
      "image/png": "[encoded data removed]",
      "text/plain": [
       "<Figure size 432x288 with 1 Axes>"
      ]
     },
     "metadata": {
      "needs_background": "light"
     },
     "output_type": "display_data"
    }
   ],
   "source": [
    "\n",
    "\n",
    "y = np.log(np.atleast_2d(df['Time']).T)\n",
    "x = np.atleast_2d(df['sizeLimit']).T\n",
    "\n",
    "df['LogTime'] = y\n",
    "\n",
    "poly = PolynomialFeatures(degree=1)\n",
    "x_transform = poly.fit_transform(x)\n",
    "\n",
    "linearRegression = LinearRegression()\n",
    "linearRegression.fit(x_transform, y)\n",
    "\n",
    "coeff = linearRegression.coef_.T\n",
    "\n",
    "result = linearRegression.predict(x_transform)\n",
    "\n",
    "x_list = [val[0] for val in x]\n",
    "result_list = [val[0] for val in result]\n",
    "df_current = pd.DataFrame.from_dict({'x': x_list, 'y': result_list})\n",
    "\n",
    "print(linearRegression.coef_)\n",
    "print(linearRegression.intercept_)\n",
    "\n",
    "sns.lineplot(x='x', y='y', data=df_current)\n",
    "sns.scatterplot(x='sizeLimit', y='LogTime', data=df, color=\"coral\")\n",
    "plt.show()"
   ]
  },
  {
   "cell_type": "code",
   "execution_count": 44,
   "metadata": {},
   "outputs": [
    {
     "name": "stdout",
     "output_type": "stream",
     "text": [
      "9.056432 (86.050647 ^ size_limit)\n"
     ]
    }
   ],
   "source": [
    "from math import exp\n",
    "\n",
    "coeff = linearRegression.coef_[0][1]\n",
    "intercept = linearRegression.intercept_[0]\n",
    "\n",
    "print(\"%f (%f ^ size_limit)\" % (exp(coeff), exp(intercept)))"
   ]
  },
  {
   "cell_type": "code",
   "execution_count": 27,
   "metadata": {},
   "outputs": [
    {
     "data": {
      "image/png": "[encoded data removed]",
      "text/plain": [
       "<Figure size 432x288 with 1 Axes>"
      ]
     },
     "metadata": {
      "needs_background": "light"
     },
     "output_type": "display_data"
    }
   ],
   "source": [
    "sns.scatterplot(x='sizeLimit', y='Memory', data=df)\n",
    "plt.show()"
   ]
  },
  {
   "cell_type": "code",
   "execution_count": 28,
   "metadata": {},
   "outputs": [
    {
     "data": {
      "image/png": "[encoded data removed]",
      "text/plain": [
       "<Figure size 432x288 with 1 Axes>"
      ]
     },
     "metadata": {
      "needs_background": "light"
     },
     "output_type": "display_data"
    }
   ],
   "source": [
    "sns.scatterplot(x='sizeLimit', y='Accuracy', data=df)\n",
    "plt.show()"
   ]
  },
  {
   "cell_type": "code",
   "execution_count": 29,
   "metadata": {},
   "outputs": [
    {
     "data": {
      "image/png": "[encoded data removed]",
      "text/plain": [
       "<Figure size 432x288 with 1 Axes>"
      ]
     },
     "metadata": {
      "needs_background": "light"
     },
     "output_type": "display_data"
    }
   ],
   "source": [
    "sns.distplot(df['Accuracy'], hist=False)\n",
    "plt.show()"
   ]
  },
  {
   "cell_type": "code",
   "execution_count": 30,
   "metadata": {},
   "outputs": [
    {
     "data": {
      "image/png": "[encoded data removed]",
      "text/plain": [
       "<Figure size 432x288 with 1 Axes>"
      ]
     },
     "metadata": {
      "needs_background": "light"
     },
     "output_type": "display_data"
    }
   ],
   "source": [
    "sns.boxplot(df['Accuracy'])\n",
    "plt.show()"
   ]
  },
  {
   "cell_type": "code",
   "execution_count": 31,
   "metadata": {},
   "outputs": [
    {
     "data": {
      "text/plain": [
       "count    6.000000\n",
       "mean     0.957875\n",
       "std      0.030443\n",
       "min      0.911765\n",
       "25%      0.943280\n",
       "50%      0.966667\n",
       "75%      0.966667\n",
       "max      1.000000\n",
       "Name: Accuracy, dtype: float64"
      ]
     },
     "execution_count": 31,
     "metadata": {},
     "output_type": "execute_result"
    }
   ],
   "source": [
    "df['Accuracy'].describe()"
   ]
  },
  {
   "cell_type": "code",
   "execution_count": 32,
   "metadata": {},
   "outputs": [],
   "source": [
    "from scipy import stats"
   ]
  },
  {
   "cell_type": "code",
   "execution_count": 33,
   "metadata": {},
   "outputs": [
    {
     "ename": "ValueError",
     "evalue": "skewtest is not valid with less than 8 samples; 6 samples were given.",
     "output_type": "error",
     "traceback": [
      "\u001b[0;31m---------------------------------------------------------------------------\u001b[0m",
      "\u001b[0;31mValueError\u001b[0m                                Traceback (most recent call last)",
      "\u001b[0;32m<ipython-input-33-102b6ef452d9>\u001b[0m in \u001b[0;36m<module>\u001b[0;34m\u001b[0m\n\u001b[0;32m----> 1\u001b[0;31m \u001b[0m_\u001b[0m\u001b[0;34m,\u001b[0m \u001b[0mp\u001b[0m \u001b[0;34m=\u001b[0m \u001b[0mstats\u001b[0m\u001b[0;34m.\u001b[0m\u001b[0mnormaltest\u001b[0m\u001b[0;34m(\u001b[0m\u001b[0mdf\u001b[0m\u001b[0;34m[\u001b[0m\u001b[0;34m'Accuracy'\u001b[0m\u001b[0;34m]\u001b[0m\u001b[0;34m)\u001b[0m\u001b[0;34m\u001b[0m\u001b[0;34m\u001b[0m\u001b[0m\n\u001b[0m\u001b[1;32m      2\u001b[0m \u001b[0mprint\u001b[0m\u001b[0;34m(\u001b[0m\u001b[0;34m\"p-value is\"\u001b[0m\u001b[0;34m,\u001b[0m\u001b[0mp\u001b[0m\u001b[0;34m)\u001b[0m\u001b[0;34m\u001b[0m\u001b[0;34m\u001b[0m\u001b[0m\n\u001b[1;32m      3\u001b[0m \u001b[0mprint\u001b[0m\u001b[0;34m(\u001b[0m\u001b[0;34m\"confidence is\"\u001b[0m\u001b[0;34m,\u001b[0m \u001b[0;36m1\u001b[0m\u001b[0;34m-\u001b[0m\u001b[0mp\u001b[0m\u001b[0;34m)\u001b[0m\u001b[0;34m\u001b[0m\u001b[0;34m\u001b[0m\u001b[0m\n",
      "\u001b[0;32m~/.local/lib/python3.6/site-packages/scipy/stats/stats.py\u001b[0m in \u001b[0;36mnormaltest\u001b[0;34m(a, axis, nan_policy)\u001b[0m\n\u001b[1;32m   1509\u001b[0m         \u001b[0;32mreturn\u001b[0m \u001b[0mmstats_basic\u001b[0m\u001b[0;34m.\u001b[0m\u001b[0mnormaltest\u001b[0m\u001b[0;34m(\u001b[0m\u001b[0ma\u001b[0m\u001b[0;34m,\u001b[0m \u001b[0maxis\u001b[0m\u001b[0;34m)\u001b[0m\u001b[0;34m\u001b[0m\u001b[0;34m\u001b[0m\u001b[0m\n\u001b[1;32m   1510\u001b[0m \u001b[0;34m\u001b[0m\u001b[0m\n\u001b[0;32m-> 1511\u001b[0;31m     \u001b[0ms\u001b[0m\u001b[0;34m,\u001b[0m \u001b[0m_\u001b[0m \u001b[0;34m=\u001b[0m \u001b[0mskewtest\u001b[0m\u001b[0;34m(\u001b[0m\u001b[0ma\u001b[0m\u001b[0;34m,\u001b[0m \u001b[0maxis\u001b[0m\u001b[0;34m)\u001b[0m\u001b[0;34m\u001b[0m\u001b[0;34m\u001b[0m\u001b[0m\n\u001b[0m\u001b[1;32m   1512\u001b[0m     \u001b[0mk\u001b[0m\u001b[0;34m,\u001b[0m \u001b[0m_\u001b[0m \u001b[0;34m=\u001b[0m \u001b[0mkurtosistest\u001b[0m\u001b[0;34m(\u001b[0m\u001b[0ma\u001b[0m\u001b[0;34m,\u001b[0m \u001b[0maxis\u001b[0m\u001b[0;34m)\u001b[0m\u001b[0;34m\u001b[0m\u001b[0;34m\u001b[0m\u001b[0m\n\u001b[1;32m   1513\u001b[0m     \u001b[0mk2\u001b[0m \u001b[0;34m=\u001b[0m \u001b[0ms\u001b[0m\u001b[0;34m*\u001b[0m\u001b[0ms\u001b[0m \u001b[0;34m+\u001b[0m \u001b[0mk\u001b[0m\u001b[0;34m*\u001b[0m\u001b[0mk\u001b[0m\u001b[0;34m\u001b[0m\u001b[0;34m\u001b[0m\u001b[0m\n",
      "\u001b[0;32m~/.local/lib/python3.6/site-packages/scipy/stats/stats.py\u001b[0m in \u001b[0;36mskewtest\u001b[0;34m(a, axis, nan_policy)\u001b[0m\n\u001b[1;32m   1336\u001b[0m         raise ValueError(\n\u001b[1;32m   1337\u001b[0m             \u001b[0;34m\"skewtest is not valid with less than 8 samples; %i samples\"\u001b[0m\u001b[0;34m\u001b[0m\u001b[0;34m\u001b[0m\u001b[0m\n\u001b[0;32m-> 1338\u001b[0;31m             \" were given.\" % int(n))\n\u001b[0m\u001b[1;32m   1339\u001b[0m     \u001b[0my\u001b[0m \u001b[0;34m=\u001b[0m \u001b[0mb2\u001b[0m \u001b[0;34m*\u001b[0m \u001b[0mmath\u001b[0m\u001b[0;34m.\u001b[0m\u001b[0msqrt\u001b[0m\u001b[0;34m(\u001b[0m\u001b[0;34m(\u001b[0m\u001b[0;34m(\u001b[0m\u001b[0mn\u001b[0m \u001b[0;34m+\u001b[0m \u001b[0;36m1\u001b[0m\u001b[0;34m)\u001b[0m \u001b[0;34m*\u001b[0m \u001b[0;34m(\u001b[0m\u001b[0mn\u001b[0m \u001b[0;34m+\u001b[0m \u001b[0;36m3\u001b[0m\u001b[0;34m)\u001b[0m\u001b[0;34m)\u001b[0m \u001b[0;34m/\u001b[0m \u001b[0;34m(\u001b[0m\u001b[0;36m6.0\u001b[0m \u001b[0;34m*\u001b[0m \u001b[0;34m(\u001b[0m\u001b[0mn\u001b[0m \u001b[0;34m-\u001b[0m \u001b[0;36m2\u001b[0m\u001b[0;34m)\u001b[0m\u001b[0;34m)\u001b[0m\u001b[0;34m)\u001b[0m\u001b[0;34m\u001b[0m\u001b[0;34m\u001b[0m\u001b[0m\n\u001b[1;32m   1340\u001b[0m     beta2 = (3.0 * (n**2 + 27*n - 70) * (n+1) * (n+3) /\n",
      "\u001b[0;31mValueError\u001b[0m: skewtest is not valid with less than 8 samples; 6 samples were given."
     ]
    }
   ],
   "source": [
    "_, p = stats.normaltest(df['Accuracy'])\n",
    "print(\"p-value is\",p)\n",
    "print(\"confidence is\", 1-p)"
   ]
  },
  {
   "cell_type": "code",
   "execution_count": null,
   "metadata": {},
   "outputs": [],
   "source": [
    "x_bar = df['Accuracy'].mean()\n",
    "x_std = df['Accuracy'].std()\n",
    "x_n = len(df['Accuracy'])\n",
    "\n",
    "confidence = 0.9\n",
    "alpha = 1 - confidence\n",
    "t_alpha_half = stats.t.ppf(1-(alpha/2), x_n - 1) \n",
    "\n",
    "delta = t_alpha_half * x_std / x_n\n",
    "left_limit = x_bar - delta\n",
    "right_limit = x_bar + delta\n",
    "\n",
    "print(left_limit, right_limit)"
   ]
  }
 ],
 "metadata": {
  "kernelspec": {
   "display_name": "Python 3",
   "language": "python",
   "name": "python3"
  },
  "language_info": {
   "codemirror_mode": {
    "name": "ipython",
    "version": 3
   },
   "file_extension": ".py",
   "mimetype": "text/x-python",
   "name": "python",
   "nbconvert_exporter": "python",
   "pygments_lexer": "ipython3",
   "version": "3.6.7"
  }
 },
 "nbformat": 4,
 "nbformat_minor": 2
}
